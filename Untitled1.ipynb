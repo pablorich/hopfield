{
 "cells": [
  {
   "cell_type": "code",
   "execution_count": 53,
   "metadata": {},
   "outputs": [],
   "source": [
    "import numpy as np\n",
    "import matplotlib.pyplot as plt \n",
    "import tempfile\n",
    "import argparse"
   ]
  },
  {
   "cell_type": "code",
   "execution_count": 54,
   "metadata": {},
   "outputs": [],
   "source": [
    "def draw_bin_image(image_matrix):\n",
    "    for row in image_matrix.tolist():\n",
    "        print('| ' + ' '.join(' *'[val>0] for val in row))\n",
    "        \n",
    "zero = np.matrix([\n",
    "    -1, 1, 1, 1, -1,\n",
    "    1, -1, -1, -1, 1,\n",
    "    1, -1, -1, -1, 1,\n",
    "    1, -1, -1, -1, 1,\n",
    "    -1, 1, 1, 1, -1\n",
    "    ])\n",
    "\n",
    "one = np.matrix([\n",
    "    1, 1, 1, -1, -1,\n",
    "    -1, -1, 1, -1, -1,\n",
    "    -1, -1, 1, -1, -1,\n",
    "    -1, -1, 1, -1, -1,\n",
    "    -1, -1, 1, 1, 1\n",
    "    ])\n",
    "\n",
    "two = np.matrix([\n",
    "    1, -1, -1, -1, 1,\n",
    "    -1, 1, -1, 1, -1,\n",
    "    -1, -1, 1, -1, -1,\n",
    "    -1, 1, -1, 1, -1,\n",
    "    1, -1, -1, -1, 1\n",
    "    ])\n"
   ]
  },
  {
   "cell_type": "code",
   "execution_count": 55,
   "metadata": {},
   "outputs": [],
   "source": [
    "\n",
    "class HopfieldNetwork:\n",
    " \n",
    "    #\n",
    "    # Initialize a Hopfield network with N\n",
    "    # neurons\n",
    "    #\n",
    "    def __init__(self, N):\n",
    "        self.N = N\n",
    "        self.W = np.zeros((N,N))\n",
    "        self.s = np.zeros((N,1))\n",
    "        \n",
    "    def runStep(self):\n",
    "        i = np.random.randint(0,self.N)\n",
    "        a = np.matmul(self.W[i,:], self.s)\n",
    "        if a < 0:\n",
    "            self.s[i] = -1\n",
    "        else:\n",
    "            self.s[i] = 1\n",
    "        \n",
    "    def train(self, S):\n",
    "        self.W = np.matmul(S.transpose(), S)\n",
    "        \n",
    "    def run(self, state, steps):\n",
    "        self.s = state\n",
    "        for i in range(steps):\n",
    "            self.runStep()\n",
    "        return self.s"
   ]
  },
  {
   "cell_type": "code",
   "execution_count": 56,
   "metadata": {},
   "outputs": [],
   "source": [
    "trainData = np.concatenate([zero, one, two], axis=0)\n",
    "epochs = 6\n",
    "iterations = 20\n",
    "errors = 5\n",
    "memories = 3\n",
    "network = HopfieldNetwork(5*5)\n",
    "network.train(trainData)"
   ]
  },
  {
   "cell_type": "code",
   "execution_count": 57,
   "metadata": {},
   "outputs": [
    {
     "data": {
      "image/png": "[encoded data removed]",
      "text/plain": [
       "<Figure size 432x288 with 21 Axes>"
      ]
     },
     "metadata": {},
     "output_type": "display_data"
    }
   ],
   "source": [
    "fig = plt.figure()\n",
    "for pic in range(memories):\n",
    "    state = (trainData[pic,:].reshape(25,1)).copy()\n",
    "    #\n",
    "    # Display original pattern\n",
    "    #\n",
    "    ax = fig.add_subplot(memories,epochs + 1, 1+pic*(epochs+1))\n",
    "    ax.set_xticks([],[])\n",
    "    ax.set_yticks([],[])\n",
    "    ax.imshow(state.reshape(5,5), \"binary_r\")\n",
    "\n",
    "    state = state.copy()\n",
    "    for i in range(errors):\n",
    "        index = np.random.randint(0,25)\n",
    "        state[index][0] = state[index][0]*(-1)\n",
    "\n",
    "    for i in range(epochs):\n",
    "        ax = fig.add_subplot(memories,epochs + 1, i+2+pic*(epochs+1))\n",
    "        ax.set_xticks([],[])\n",
    "        ax.set_yticks([],[])\n",
    "        ax.imshow(state.reshape(5,5), \"binary_r\")\n",
    "        state = network.run(state, iterations)\n",
    "\n",
    "plt.show()"
   ]
  }
 ],
 "metadata": {
  "kernelspec": {
   "display_name": "Python 3",
   "language": "python",
   "name": "python3"
  },
  "language_info": {
   "codemirror_mode": {
    "name": "ipython",
    "version": 3
   },
   "file_extension": ".py",
   "mimetype": "text/x-python",
   "name": "python",
   "nbconvert_exporter": "python",
   "pygments_lexer": "ipython3",
   "version": "3.7.4"
  }
 },
 "nbformat": 4,
 "nbformat_minor": 2
}
