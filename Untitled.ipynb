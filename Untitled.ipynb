{
 "cells": [
  {
   "cell_type": "code",
   "execution_count": 4,
   "metadata": {},
   "outputs": [
    {
     "name": "stdout",
     "output_type": "stream",
     "text": [
      "|   * * *  \n",
      "| *       *\n",
      "| *       *\n",
      "| *       *\n",
      "| *       *\n",
      "|   * * *  \n"
     ]
    }
   ],
   "source": [
    "import numpy as np\n",
    "#from neupy import algorithms\n",
    "def draw_bin_image(image_matrix):\n",
    "    for row in image_matrix.tolist():\n",
    "        print('| ' + ' '.join(' *'[val] for val in row))\n",
    "\n",
    "zero = np.matrix([\n",
    "    0, 1, 1, 1, 0,\n",
    "    1, 0, 0, 0, 1,\n",
    "    1, 0, 0, 0, 1,\n",
    "    1, 0, 0, 0, 1,\n",
    "    1, 0, 0, 0, 1,\n",
    "    0, 1, 1, 1, 0\n",
    "    ])\n",
    "\n",
    "one = np.matrix([\n",
    "    0, 1, 1, 0, 0,\n",
    "    0, 0, 1, 0, 0,\n",
    "    0, 0, 1, 0, 0,\n",
    "    0, 0, 1, 0, 0,\n",
    "    0, 0, 1, 0, 0,\n",
    "    0, 0, 1, 0, 0\n",
    "    ])\n",
    "\n",
    "two = np.matrix([\n",
    "    1, 1, 1, 0, 0,\n",
    "    0, 0, 0, 1, 0,\n",
    "    0, 0, 0, 1, 0,\n",
    "    0, 1, 1, 0, 0,\n",
    "    1, 0, 0, 0, 0,\n",
    "    1, 1, 1, 1, 1,\n",
    "    ])\n",
    "\n",
    "half_zero = np.matrix([\n",
    "    0, 1, 1, 1, 0,\n",
    "    1, 0, 0, 0, 1,\n",
    "    1, 0, 0, 0, 1,\n",
    "    0, 0, 0, 0, 0,\n",
    "    0, 0, 0, 0, 0,\n",
    "    0, 0, 0, 0, 0,\n",
    "])\n",
    "\n",
    "half_two = np.matrix([\n",
    "    0, 0, 0, 0, 0,\n",
    "    0, 0, 0, 0, 0,\n",
    "    0, 0, 0, 0, 0,\n",
    "    0, 1, 1, 0, 0,\n",
    "    1, 0, 0, 0, 0,\n",
    "    1, 1, 1, 1, 1,\n",
    "])\n",
    "\n",
    "draw_bin_image(zero.reshape((6, 5)))\n",
    "trainData = np.concatenate([zero, one, two], axis=0)"
   ]
  }
 ],
 "metadata": {
  "kernelspec": {
   "display_name": "Python 3",
   "language": "python",
   "name": "python3"
  },
  "language_info": {
   "codemirror_mode": {
    "name": "ipython",
    "version": 3
   },
   "file_extension": ".py",
   "mimetype": "text/x-python",
   "name": "python",
   "nbconvert_exporter": "python",
   "pygments_lexer": "ipython3",
   "version": "3.7.4"
  }
 },
 "nbformat": 4,
 "nbformat_minor": 2
}
